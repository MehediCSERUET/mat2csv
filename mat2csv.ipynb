{
 "cells": [
  {
   "cell_type": "code",
   "execution_count": 22,
   "id": "conditional-trustee",
   "metadata": {},
   "outputs": [],
   "source": [
    "import pandas as pd\n",
    "import scipy\n",
    "\n",
    "\n",
    "matPath = r'C:\\Users\\Mehedi Hasan\\Desktop\\RUET\\Thesis Supervision\\97.mat'\n",
    "outPath = r'C:\\Users\\Mehedi Hasan\\Desktop\\RUET\\Thesis Supervision\\97.csv'\n",
    "\n",
    "f = scipy.io.loadmat(matPath)\n",
    "\n",
    "X097_DE_time = f['X097_DE_time']\n",
    "X097_FE_time = f['X097_FE_time']\n",
    "X097RPM = f['X097RPM']\n",
    "\n",
    "\n",
    "data1=list(X097_DE_time)\n",
    "dfdata1 = pd.DataFrame(data1, columns = ['X097_DE_time'])\n",
    "\n",
    "data2=list(X097_FE_time)\n",
    "dfdata2 = pd.DataFrame(data2, columns = ['X097_FE_time'])\n",
    "\n",
    "data3=list(X097RPM)\n",
    "dfdata3 = pd.DataFrame(data3, columns = ['X097RPM'])\n",
    "\n",
    "\n",
    "\n",
    "dfdata1.reset_index(drop=True, inplace=True)\n",
    "dfdata2.reset_index(drop=True, inplace=True)\n",
    "dfdata3.reset_index(drop=True, inplace=True)\n",
    "df = pd.concat([dfdata1, dfdata2, dfdata3], axis=1)\n",
    "\n",
    "df.to_csv(outPath, index=False)"
   ]
  },
  {
   "cell_type": "code",
   "execution_count": null,
   "id": "included-pendant",
   "metadata": {},
   "outputs": [],
   "source": []
  }
 ],
 "metadata": {
  "kernelspec": {
   "display_name": "Python 3",
   "language": "python",
   "name": "python3"
  },
  "language_info": {
   "codemirror_mode": {
    "name": "ipython",
    "version": 3
   },
   "file_extension": ".py",
   "mimetype": "text/x-python",
   "name": "python",
   "nbconvert_exporter": "python",
   "pygments_lexer": "ipython3",
   "version": "3.6.12"
  }
 },
 "nbformat": 4,
 "nbformat_minor": 5
}
