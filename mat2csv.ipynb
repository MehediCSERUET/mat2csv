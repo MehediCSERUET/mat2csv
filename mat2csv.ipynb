{
 "cells": [
  {
   "cell_type": "code",
   "execution_count": 22,
   "id": "conditional-trustee",
   "metadata": {},
   "outputs": [],
   "source": [
    "import pandas as pd\n",
    "import scipy\n",
    "\n",
    "\n",
    "matPath = r'somthing.mat'\n",
    "outPath = r'somthingelse.csv'\n",
    "\n",
    "f = scipy.io.loadmat(matPath)\n",
    "\n",
    "column1 = f['column_name1']\n",
    "column2 = f['column_name2']\n",
    "column3 = f['column_name3']\n",
    "\n",
    "\n",
    "data1=list(X097_DE_time)\n",
    "dfdata1 = pd.DataFrame(data1, columns = ['column1'])\n",
    "\n",
    "data2=list(X097_FE_time)\n",
    "dfdata2 = pd.DataFrame(data2, columns = ['column2'])\n",
    "\n",
    "data3=list(X097RPM)\n",
    "dfdata3 = pd.DataFrame(data3, columns = ['column3'])\n",
    "\n",
    "\n",
    "\n",
    "dfdata1.reset_index(drop=True, inplace=True)\n",
    "dfdata2.reset_index(drop=True, inplace=True)\n",
    "dfdata3.reset_index(drop=True, inplace=True)\n",
    "df = pd.concat([dfdata1, dfdata2, dfdata3], axis=1)\n",
    "\n",
    "df.to_csv(outPath, index=False)"
   ]
  },
  {
   "cell_type": "code",
   "execution_count": null,
   "id": "included-pendant",
   "metadata": {},
   "outputs": [],
   "source": []
  }
 ],
 "metadata": {
  "kernelspec": {
   "display_name": "Python 3",
   "language": "python",
   "name": "python3"
  },
  "language_info": {
   "codemirror_mode": {
    "name": "ipython",
    "version": 3
   },
   "file_extension": ".py",
   "mimetype": "text/x-python",
   "name": "python",
   "nbconvert_exporter": "python",
   "pygments_lexer": "ipython3",
   "version": "3.6.12"
  }
 },
 "nbformat": 4,
 "nbformat_minor": 5
}
